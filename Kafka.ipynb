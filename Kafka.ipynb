{
 "cells": [
  {
   "cell_type": "code",
   "execution_count": 1,
   "metadata": {},
   "outputs": [],
   "source": [
    "#Import Necessary Libraries\n",
    "from confluent_kafka import Producer, Consumer, KafkaError\n",
    "import pandas as pd\n",
    "import json\n",
    "from faker import Faker\n",
    "import matplotlib.pyplot as plt\n"
   ]
  },
  {
   "cell_type": "code",
   "execution_count": 2,
   "metadata": {},
   "outputs": [],
   "source": [
    "# Create Faker instance for generating fake data and localise to US just incase of Data Protection issues\n",
    "fake = Faker('en_US')\n",
    "#Define the topic variable\n",
    "topic = 'mobile_data'\n",
    "\n",
    "#Producer settings dictionary\n",
    "producer_config = {\n",
    "    'bootstrap.servers': 'pkc-lzvrd.us-west4.gcp.confluent.cloud:9092',\n",
    "    'security.protocol': 'SASL_SSL',\n",
    "    'sasl.mechanisms': 'PLAIN',\n",
    "    'sasl.username': 'RGLOI7DV63C35R2X',\n",
    "    'sasl.password': 'SZ3VUVgAf2AGKRq9SIXGe6Glbuc7JWglUKu/zzzJvBHoVfVMpvp0KJmDUJeKMvQH',  \n",
    "}\n",
    "#Consumer settings dictionary\n",
    "consumer_config ={\n",
    "    'bootstrap.servers': 'pkc-lzvrd.us-west4.gcp.confluent.cloud:9092',\n",
    "    'security.protocol': 'SASL_SSL',\n",
    "    'sasl.mechanisms': 'PLAIN',\n",
    "    'sasl.username': 'RGLOI7DV63C35R2X',\n",
    "    'sasl.password': 'SZ3VUVgAf2AGKRq9SIXGe6Glbuc7JWglUKu/zzzJvBHoVfVMpvp0KJmDUJeKMvQH',\n",
    "    'group.id': 'cluster_0',\n",
    "    'auto.offset.reset': 'earliest',\n",
    "    \n",
    "}"
   ]
  },
  {
   "cell_type": "code",
   "execution_count": 3,
   "metadata": {},
   "outputs": [],
   "source": [
    "#Create a function for function for Producing Data into a Kafka Cluster\n",
    "\n",
    "def Produce():\n",
    "    # Define number of messages to generate\n",
    "    num_messages = 100\n",
    "\n",
    "    # Use fake Library to generate synthetic data and send to Kafka topic\n",
    "    producer = Producer(producer_config)\n",
    "\n",
    "\n",
    "    #Create Synthetic data to be ingested into Kafka Cluster\n",
    "    for i in range(num_messages):\n",
    "        data = {\n",
    "            'sender_phone_number':fake.phone_number(),\n",
    "            'receiver_phone_number': fake.phone_number(),\n",
    "            'transaction_amount': fake.random_int(),\n",
    "            'transaction_time': fake.time(),\n",
    "            'transaction_date':fake.date()\n",
    "        }\n",
    "        \n",
    "        # Serialize data to JSON and send to Kafka topic\n",
    "        producer.produce(topic, key=str(i), value=json.dumps(data))\n",
    "        producer.flush()\n"
   ]
  },
  {
   "cell_type": "code",
   "execution_count": 4,
   "metadata": {},
   "outputs": [],
   "source": [
    "#Create a function for Extracting Data from Kafka Cluster\n",
    "\n",
    "def Extract():\n",
    "    #Create a consumer object\n",
    "    consumer = Consumer(consumer_config)\n",
    "\n",
    "    # Subscribe to the Kafka topic\n",
    "    consumer.subscribe([topic])\n",
    "\n",
    "    # Define an empty list to store the JSON data\n",
    "    json_data_list = []\n",
    "\n",
    "    # Consume data from Kafka\n",
    "    #Define max messages and message count variables so as to create a condition to exit the While loop\n",
    "    max_messages = 100\n",
    "    message_count = 0\n",
    "\n",
    "    while True:\n",
    "        msg = consumer.poll(timeout=1.0)\n",
    "        if msg is None:\n",
    "            continue\n",
    "        if msg.error():\n",
    "            if msg.error().code() == KafkaError._PARTITION_EOF:\n",
    "                print('Reached end of partition')\n",
    "            else:\n",
    "                print('Error while consuming message: {}'.format(msg.error()))\n",
    "        else:\n",
    "            # Convert the message value from bytes to string\n",
    "            json_string = msg.value().decode('utf-8')\n",
    "            \n",
    "            # Parse the JSON data\n",
    "            json_data = json.loads(json_string)\n",
    "            \n",
    "            # Append the JSON data to the list\n",
    "            json_data_list.append(json_data)\n",
    "            \n",
    "        \n",
    "            #Increment the message counter\n",
    "            message_count += 1\n",
    "\n",
    "            # Exit the loop when we have consumed the maximum number of messages set in max_messages variable\n",
    "            if message_count >= max_messages:\n",
    "                break\n",
    "            \n",
    "    # Load the JSON data into a Pandas DataFrame\n",
    "    df = pd.DataFrame(json_data_list)\n",
    "    #Close the Kafka consumer\n",
    "    consumer.close()\n",
    "    return df"
   ]
  },
  {
   "cell_type": "code",
   "execution_count": 5,
   "metadata": {},
   "outputs": [],
   "source": [
    "#Create transform function to transform data to determine the year that had the highest amount of transactions\n",
    "def Transform(df):\n",
    "    #Drop null values\n",
    "    df.dropna(inplace = True)\n",
    "    #Change the Transaction date column to date time\n",
    "    df['transaction_date'] = pd.to_datetime(df['transaction_date'])\n",
    "    #Group the data by transaction year\n",
    "    grouped_df = df.groupby(df['transaction_date'].dt.year).sum().reset_index()\n",
    "    #Sort by transaction amounts in descending Order\n",
    "    grouped_df= grouped_df.sort_values('transaction_amount', ascending= False)\n",
    "    print(grouped_df.head())\n",
    "    return grouped_df"
   ]
  },
  {
   "cell_type": "code",
   "execution_count": 6,
   "metadata": {},
   "outputs": [],
   "source": [
    "#Create a function to plot the grouped df\n",
    "def Visualize(grouped_df):\n",
    "    plt.bar(x=grouped_df['transaction_date'],height = grouped_df['transaction_amount'])\n",
    "    plt.xlabel('Year')\n",
    "    plt.ylabel('Amount')\n",
    "    plt.title('Yearly Transactions',loc = 'left')\n",
    "    #Pick the location of first record and create an annotation\n",
    "    text1 = f'Highest Transaction year {grouped_df.iloc[0][0]}'\n",
    "    text2 = f' \\n Amount:{grouped_df.iloc[0][1]} Ksh'\n",
    "    text3 = text1 + text2\n",
    "    plt.annotate(text3, xy = (tuple(grouped_df.iloc[0])),arrowprops=dict(facecolor='red', shrink=0.05),fontsize = 9, color = 'red')\n",
    "    plt.grid()\n",
    "    plt.show()"
   ]
  },
  {
   "cell_type": "code",
   "execution_count": 7,
   "metadata": {},
   "outputs": [
    {
     "name": "stdout",
     "output_type": "stream",
     "text": [
      "    transaction_date  transaction_amount\n",
      "10              1982               29926\n",
      "9               1981               26261\n",
      "36              2015               22324\n",
      "23              2000               19773\n",
      "5               1976               19133\n"
     ]
    },
    {
     "data": {
      "image/png": "[encoded data removed]",
      "text/plain": [
       "<Figure size 640x480 with 1 Axes>"
      ]
     },
     "metadata": {},
     "output_type": "display_data"
    }
   ],
   "source": [
    "#Running the Pipeline manually.\n",
    "#To produce data\n",
    "Produce()\n",
    "#To Extract/Consume the Data\n",
    "df = Extract()\n",
    "#To Transform the Data\n",
    "grouped_df = Transform(df)\n",
    "# To Visualize data\n",
    "Visualize(grouped_df)\n"
   ]
  }
 ],
 "metadata": {
  "kernelspec": {
   "display_name": "base",
   "language": "python",
   "name": "python3"
  },
  "language_info": {
   "codemirror_mode": {
    "name": "ipython",
    "version": 3
   },
   "file_extension": ".py",
   "mimetype": "text/x-python",
   "name": "python",
   "nbconvert_exporter": "python",
   "pygments_lexer": "ipython3",
   "version": "3.9.13"
  },
  "orig_nbformat": 4,
  "vscode": {
   "interpreter": {
    "hash": "6c606041d7f3945e33ec85d94395ab6e1caa578dd418ab71041339227480199b"
   }
  }
 },
 "nbformat": 4,
 "nbformat_minor": 2
}
